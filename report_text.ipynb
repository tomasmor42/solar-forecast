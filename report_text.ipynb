{
 "cells": [
  {
   "cell_type": "markdown",
   "metadata": {},
   "source": [
    "## Content table\n",
    "1. Problem statement.\n",
    "2. Data gathering and preparation.\n",
    "3. Choice of the tartget variable.\n",
    "4. Building baseline predictions. \n",
    "5. Gathering data for additional drivers.\n",
    "6. Building daily predictions with additional drivers. \n",
    "7. Building predictions for the daily profile. \n",
    "8. Compiling models to end to end pipeline. \n",
    "9.  Conclusion.\n",
    "10. Next steps."
   ]
  },
  {
   "cell_type": "markdown",
   "metadata": {},
   "source": [
    "## Problem statement."
   ]
  },
  {
   "cell_type": "markdown",
   "metadata": {},
   "source": [
    "The current paper will analyse the data from 300 Australian households, which provided data about their energy consumption and solar battery production. Then, we build a forecast for the solar production using this data and additional drivers as day length and the weather."
   ]
  },
  {
   "cell_type": "markdown",
   "metadata": {},
   "source": [
    "## Data gathering and preparation\n",
    "Ausgrid provides the  [information](https://www.ausgrid.com.au/Industry/Our-Research/Data-to-share/Solar-home-electricity-data) about 300 randomly selected australian households with solar batteries. \n",
    "The data is divided by three parts (07.2010 -- 07.2011,  07.2011 -- 07.2012, 07.2012 -- 07.2013). \n",
    "The structure of the files is the same through all files, so it can be relatively easy to concatente them.\n",
    "Most of households provide information for only one year but some of them provided information for the whole period.\n",
    "Let's take a look how the data is structured. "
   ]
  },
  {
   "cell_type": "code",
   "execution_count": 143,
   "metadata": {},
   "outputs": [],
   "source": [
    "import pandas as pd\n",
    "import numpy as np\n",
    "from prophet import Prophet\n",
    "from gather_data import gather_files, concat_files\n",
    "import datetime"
   ]
  },
  {
   "cell_type": "code",
   "execution_count": 8,
   "metadata": {},
   "outputs": [],
   "source": [
    "list_files = ['2010-2011_Solar_home_electricity_data.csv', \n",
    "'2011-2012_Solar_home_electricity_data_v2.csv', '2012-2013_Solar_home_electricity_data_v2.csv']\n",
    "df = concat_files(list_files)"
   ]
  },
  {
   "cell_type": "markdown",
   "metadata": {},
   "source": [
    "The resulting dataframe looks like:"
   ]
  },
  {
   "cell_type": "code",
   "execution_count": 22,
   "metadata": {},
   "outputs": [
    {
     "data": {
      "text/html": [
       "<div>\n",
       "<style scoped>\n",
       "    .dataframe tbody tr th:only-of-type {\n",
       "        vertical-align: middle;\n",
       "    }\n",
       "\n",
       "    .dataframe tbody tr th {\n",
       "        vertical-align: top;\n",
       "    }\n",
       "\n",
       "    .dataframe thead th {\n",
       "        text-align: right;\n",
       "    }\n",
       "</style>\n",
       "<table border=\"1\" class=\"dataframe\">\n",
       "  <thead>\n",
       "    <tr style=\"text-align: right;\">\n",
       "      <th></th>\n",
       "      <th>Customer</th>\n",
       "      <th>Generator Capacity</th>\n",
       "      <th>Postcode</th>\n",
       "      <th>Consumption Category</th>\n",
       "      <th>date</th>\n",
       "      <th>0:30</th>\n",
       "      <th>1:00</th>\n",
       "      <th>1:30</th>\n",
       "      <th>2:00</th>\n",
       "      <th>2:30</th>\n",
       "      <th>...</th>\n",
       "      <th>20:00</th>\n",
       "      <th>20:30</th>\n",
       "      <th>21:00</th>\n",
       "      <th>21:30</th>\n",
       "      <th>22:00</th>\n",
       "      <th>22:30</th>\n",
       "      <th>23:00</th>\n",
       "      <th>23:30</th>\n",
       "      <th>0:00</th>\n",
       "      <th>Row Quality</th>\n",
       "    </tr>\n",
       "  </thead>\n",
       "  <tbody>\n",
       "    <tr>\n",
       "      <th>0</th>\n",
       "      <td>1</td>\n",
       "      <td>3.78</td>\n",
       "      <td>2076</td>\n",
       "      <td>GC</td>\n",
       "      <td>1-Jul-10</td>\n",
       "      <td>0.303</td>\n",
       "      <td>0.471</td>\n",
       "      <td>0.083</td>\n",
       "      <td>0.121</td>\n",
       "      <td>0.361</td>\n",
       "      <td>...</td>\n",
       "      <td>0.54</td>\n",
       "      <td>0.406</td>\n",
       "      <td>0.543</td>\n",
       "      <td>0.495</td>\n",
       "      <td>0.216</td>\n",
       "      <td>0.378</td>\n",
       "      <td>0.128</td>\n",
       "      <td>0.078</td>\n",
       "      <td>0.125</td>\n",
       "      <td>NaN</td>\n",
       "    </tr>\n",
       "    <tr>\n",
       "      <th>1</th>\n",
       "      <td>1</td>\n",
       "      <td>3.78</td>\n",
       "      <td>2076</td>\n",
       "      <td>CL</td>\n",
       "      <td>1-Jul-10</td>\n",
       "      <td>1.250</td>\n",
       "      <td>1.244</td>\n",
       "      <td>1.256</td>\n",
       "      <td>0.744</td>\n",
       "      <td>0.019</td>\n",
       "      <td>...</td>\n",
       "      <td>0.00</td>\n",
       "      <td>0.000</td>\n",
       "      <td>0.000</td>\n",
       "      <td>0.000</td>\n",
       "      <td>0.000</td>\n",
       "      <td>0.000</td>\n",
       "      <td>0.000</td>\n",
       "      <td>0.000</td>\n",
       "      <td>1.075</td>\n",
       "      <td>NaN</td>\n",
       "    </tr>\n",
       "    <tr>\n",
       "      <th>2</th>\n",
       "      <td>1</td>\n",
       "      <td>3.78</td>\n",
       "      <td>2076</td>\n",
       "      <td>GG</td>\n",
       "      <td>1-Jul-10</td>\n",
       "      <td>0.000</td>\n",
       "      <td>0.000</td>\n",
       "      <td>0.000</td>\n",
       "      <td>0.000</td>\n",
       "      <td>0.000</td>\n",
       "      <td>...</td>\n",
       "      <td>0.00</td>\n",
       "      <td>0.000</td>\n",
       "      <td>0.000</td>\n",
       "      <td>0.000</td>\n",
       "      <td>0.000</td>\n",
       "      <td>0.000</td>\n",
       "      <td>0.000</td>\n",
       "      <td>0.000</td>\n",
       "      <td>0.000</td>\n",
       "      <td>NaN</td>\n",
       "    </tr>\n",
       "    <tr>\n",
       "      <th>3</th>\n",
       "      <td>1</td>\n",
       "      <td>3.78</td>\n",
       "      <td>2076</td>\n",
       "      <td>GC</td>\n",
       "      <td>2-Jul-10</td>\n",
       "      <td>0.116</td>\n",
       "      <td>0.346</td>\n",
       "      <td>0.122</td>\n",
       "      <td>0.079</td>\n",
       "      <td>0.120</td>\n",
       "      <td>...</td>\n",
       "      <td>1.10</td>\n",
       "      <td>1.012</td>\n",
       "      <td>0.817</td>\n",
       "      <td>0.526</td>\n",
       "      <td>0.335</td>\n",
       "      <td>0.402</td>\n",
       "      <td>0.142</td>\n",
       "      <td>0.120</td>\n",
       "      <td>0.111</td>\n",
       "      <td>NaN</td>\n",
       "    </tr>\n",
       "    <tr>\n",
       "      <th>4</th>\n",
       "      <td>1</td>\n",
       "      <td>3.78</td>\n",
       "      <td>2076</td>\n",
       "      <td>CL</td>\n",
       "      <td>2-Jul-10</td>\n",
       "      <td>1.238</td>\n",
       "      <td>1.238</td>\n",
       "      <td>1.256</td>\n",
       "      <td>1.250</td>\n",
       "      <td>0.169</td>\n",
       "      <td>...</td>\n",
       "      <td>0.00</td>\n",
       "      <td>0.000</td>\n",
       "      <td>0.000</td>\n",
       "      <td>0.000</td>\n",
       "      <td>0.000</td>\n",
       "      <td>0.000</td>\n",
       "      <td>0.000</td>\n",
       "      <td>0.000</td>\n",
       "      <td>1.088</td>\n",
       "      <td>NaN</td>\n",
       "    </tr>\n",
       "  </tbody>\n",
       "</table>\n",
       "<p>5 rows × 54 columns</p>\n",
       "</div>"
      ],
      "text/plain": [
       "   Customer  Generator Capacity  Postcode Consumption Category      date  \\\n",
       "0         1                3.78      2076                   GC  1-Jul-10   \n",
       "1         1                3.78      2076                   CL  1-Jul-10   \n",
       "2         1                3.78      2076                   GG  1-Jul-10   \n",
       "3         1                3.78      2076                   GC  2-Jul-10   \n",
       "4         1                3.78      2076                   CL  2-Jul-10   \n",
       "\n",
       "    0:30   1:00   1:30   2:00   2:30  ...  20:00  20:30  21:00  21:30  22:00  \\\n",
       "0  0.303  0.471  0.083  0.121  0.361  ...   0.54  0.406  0.543  0.495  0.216   \n",
       "1  1.250  1.244  1.256  0.744  0.019  ...   0.00  0.000  0.000  0.000  0.000   \n",
       "2  0.000  0.000  0.000  0.000  0.000  ...   0.00  0.000  0.000  0.000  0.000   \n",
       "3  0.116  0.346  0.122  0.079  0.120  ...   1.10  1.012  0.817  0.526  0.335   \n",
       "4  1.238  1.238  1.256  1.250  0.169  ...   0.00  0.000  0.000  0.000  0.000   \n",
       "\n",
       "   22:30  23:00  23:30   0:00  Row Quality  \n",
       "0  0.378  0.128  0.078  0.125          NaN  \n",
       "1  0.000  0.000  0.000  1.075          NaN  \n",
       "2  0.000  0.000  0.000  0.000          NaN  \n",
       "3  0.402  0.142  0.120  0.111          NaN  \n",
       "4  0.000  0.000  0.000  1.088          NaN  \n",
       "\n",
       "[5 rows x 54 columns]"
      ]
     },
     "execution_count": 22,
     "metadata": {},
     "output_type": "execute_result"
    }
   ],
   "source": [
    "df.head()"
   ]
  },
  {
   "cell_type": "markdown",
   "metadata": {},
   "source": [
    "Every row is responsible for the one day for the one customer for the type of consumption/production.\n",
    "Customer: customer identifier; \n",
    "Generator Capacity: capacity of the generator installed in this household.\n",
    "Postcode: 4-letter postocde in Australia. \n",
    "Consumption category:\n",
    "There are three types of the consumption/production:\n",
    "* GC -- general consumption;\n",
    "* CL -- consumtion happened in off-pick tarrif;\n",
    "* GG -- generation of the energy via solar panel.\n",
    "Date: date in formats: dd-mon-yy, dd/mon/yy, dd/mm/yy.\n",
    "0:30 -- 00:00: amount  of generated/consumpted energy during the half of an hour interval at the date from the column date. \n",
    "\n",
    "\n",
    "This format is not suitable for further investigation so we'll transform it. \n",
    "Transposition of the production values: "
   ]
  },
  {
   "cell_type": "code",
   "execution_count": 9,
   "metadata": {},
   "outputs": [],
   "source": [
    "def transform_row(i):\n",
    "       temp = df.loc[i].T\n",
    "       df1 = temp[['0:30', '1:00', '1:30', '2:00', '2:30', '3:00', '3:30', '4:00',\n",
    "              '4:30', '5:00', '5:30', '6:00', '6:30', '7:00', '7:30', '8:00', '8:30',\n",
    "              '9:00', '9:30', '10:00', '10:30', '11:00', '11:30', '12:00', '12:30',\n",
    "              '13:00', '13:30', '14:00', '14:30', '15:00', '15:30', '16:00', '16:30',\n",
    "              '17:00', '17:30', '18:00', '18:30', '19:00', '19:30', '20:00', '20:30',\n",
    "              '21:00', '21:30', '22:00', '22:30', '23:00', '23:30', '0:00']]\n",
    "       df1 = pd.DataFrame(df1)\n",
    "       df1.rename(columns={i: \"Production\"}, inplace=True)\n",
    "       df1['time'] = df1.index\n",
    "       df1.reset_index()\n",
    "       df1['datetime'] = temp['date'] + \" \" + df1.index\n",
    "       df1['date'] = temp['date']\n",
    "       df1['Customer'] = temp['Customer']\n",
    "       df1['Generator Capacity'] = temp['Generator Capacity']\n",
    "       df1[\"Postcode\"] = temp['Postcode']\n",
    "       df1[\"Consumption Category\"] = temp['Consumption Category']\n",
    "       return df1"
   ]
  },
  {
   "cell_type": "code",
   "execution_count": 10,
   "metadata": {},
   "outputs": [],
   "source": [
    "dfs = []\n",
    "for i in range(df.shape[0]):\n",
    "    temp = transform_row(i)\n",
    "    dfs.append(temp)\n",
    "df_full = pd.concat([*dfs], axis=0)"
   ]
  },
  {
   "cell_type": "code",
   "execution_count": 11,
   "metadata": {},
   "outputs": [
    {
     "data": {
      "text/html": [
       "<div>\n",
       "<style scoped>\n",
       "    .dataframe tbody tr th:only-of-type {\n",
       "        vertical-align: middle;\n",
       "    }\n",
       "\n",
       "    .dataframe tbody tr th {\n",
       "        vertical-align: top;\n",
       "    }\n",
       "\n",
       "    .dataframe thead th {\n",
       "        text-align: right;\n",
       "    }\n",
       "</style>\n",
       "<table border=\"1\" class=\"dataframe\">\n",
       "  <thead>\n",
       "    <tr style=\"text-align: right;\">\n",
       "      <th></th>\n",
       "      <th>Production</th>\n",
       "      <th>time</th>\n",
       "      <th>datetime</th>\n",
       "      <th>date</th>\n",
       "      <th>Customer</th>\n",
       "      <th>Generator Capacity</th>\n",
       "      <th>Postcode</th>\n",
       "      <th>Consumption Category</th>\n",
       "    </tr>\n",
       "  </thead>\n",
       "  <tbody>\n",
       "    <tr>\n",
       "      <th>0:30</th>\n",
       "      <td>0.303</td>\n",
       "      <td>0:30</td>\n",
       "      <td>1-Jul-10 0:30</td>\n",
       "      <td>1-Jul-10</td>\n",
       "      <td>1</td>\n",
       "      <td>3.78</td>\n",
       "      <td>2076</td>\n",
       "      <td>GC</td>\n",
       "    </tr>\n",
       "    <tr>\n",
       "      <th>1:00</th>\n",
       "      <td>0.471</td>\n",
       "      <td>1:00</td>\n",
       "      <td>1-Jul-10 1:00</td>\n",
       "      <td>1-Jul-10</td>\n",
       "      <td>1</td>\n",
       "      <td>3.78</td>\n",
       "      <td>2076</td>\n",
       "      <td>GC</td>\n",
       "    </tr>\n",
       "    <tr>\n",
       "      <th>1:30</th>\n",
       "      <td>0.083</td>\n",
       "      <td>1:30</td>\n",
       "      <td>1-Jul-10 1:30</td>\n",
       "      <td>1-Jul-10</td>\n",
       "      <td>1</td>\n",
       "      <td>3.78</td>\n",
       "      <td>2076</td>\n",
       "      <td>GC</td>\n",
       "    </tr>\n",
       "    <tr>\n",
       "      <th>2:00</th>\n",
       "      <td>0.121</td>\n",
       "      <td>2:00</td>\n",
       "      <td>1-Jul-10 2:00</td>\n",
       "      <td>1-Jul-10</td>\n",
       "      <td>1</td>\n",
       "      <td>3.78</td>\n",
       "      <td>2076</td>\n",
       "      <td>GC</td>\n",
       "    </tr>\n",
       "    <tr>\n",
       "      <th>2:30</th>\n",
       "      <td>0.361</td>\n",
       "      <td>2:30</td>\n",
       "      <td>1-Jul-10 2:30</td>\n",
       "      <td>1-Jul-10</td>\n",
       "      <td>1</td>\n",
       "      <td>3.78</td>\n",
       "      <td>2076</td>\n",
       "      <td>GC</td>\n",
       "    </tr>\n",
       "  </tbody>\n",
       "</table>\n",
       "</div>"
      ],
      "text/plain": [
       "     Production  time       datetime      date  Customer  Generator Capacity  \\\n",
       "0:30      0.303  0:30  1-Jul-10 0:30  1-Jul-10         1                3.78   \n",
       "1:00      0.471  1:00  1-Jul-10 1:00  1-Jul-10         1                3.78   \n",
       "1:30      0.083  1:30  1-Jul-10 1:30  1-Jul-10         1                3.78   \n",
       "2:00      0.121  2:00  1-Jul-10 2:00  1-Jul-10         1                3.78   \n",
       "2:30      0.361  2:30  1-Jul-10 2:30  1-Jul-10         1                3.78   \n",
       "\n",
       "      Postcode Consumption Category  \n",
       "0:30      2076                   GC  \n",
       "1:00      2076                   GC  \n",
       "1:30      2076                   GC  \n",
       "2:00      2076                   GC  \n",
       "2:30      2076                   GC  "
      ]
     },
     "execution_count": 11,
     "metadata": {},
     "output_type": "execute_result"
    }
   ],
   "source": [
    "df_full.head()"
   ]
  },
  {
   "cell_type": "markdown",
   "metadata": {},
   "source": [
    "Since there are used different formats for datetime, it's needed to transform all of them to one format:"
   ]
  },
  {
   "cell_type": "code",
   "execution_count": 13,
   "metadata": {},
   "outputs": [],
   "source": [
    "df_full['datetime_f'] = pd.to_datetime(df_full['datetime'], format='%d-%b-%y %H:%M', errors='ignore')\n",
    "df_full['datetime_f2'] = pd.to_datetime(df_full['datetime'], format='%d/%b/%y %H:%M', errors='ignore')\n",
    "df_full['Timestamp'] = np.where(df_full['datetime_f'].isna(), df_full['datetime_f2'], df_full['datetime_f'])\n",
    "df_full['datetime_f'] = df_full['Timestamp']\n",
    "df_full = df_full.sort_values('datetime_f')\n",
    "sample_full = df_full.set_index(['datetime_f', 'Consumption Category', \"Customer\"]).unstack(['Consumption Category'])[['Production']]\n"
   ]
  },
  {
   "cell_type": "markdown",
   "metadata": {},
   "source": [
    "Resulting dataframe looks like this: "
   ]
  },
  {
   "cell_type": "code",
   "execution_count": 16,
   "metadata": {},
   "outputs": [
    {
     "data": {
      "text/html": [
       "<div>\n",
       "<style scoped>\n",
       "    .dataframe tbody tr th:only-of-type {\n",
       "        vertical-align: middle;\n",
       "    }\n",
       "\n",
       "    .dataframe tbody tr th {\n",
       "        vertical-align: top;\n",
       "    }\n",
       "\n",
       "    .dataframe thead tr th {\n",
       "        text-align: left;\n",
       "    }\n",
       "\n",
       "    .dataframe thead tr:last-of-type th {\n",
       "        text-align: right;\n",
       "    }\n",
       "</style>\n",
       "<table border=\"1\" class=\"dataframe\">\n",
       "  <thead>\n",
       "    <tr>\n",
       "      <th></th>\n",
       "      <th>Customer</th>\n",
       "      <th colspan=\"3\" halign=\"left\">Production</th>\n",
       "    </tr>\n",
       "    <tr>\n",
       "      <th>Consumption Category</th>\n",
       "      <th></th>\n",
       "      <th>CL</th>\n",
       "      <th>GC</th>\n",
       "      <th>GG</th>\n",
       "    </tr>\n",
       "    <tr>\n",
       "      <th>datetime_f</th>\n",
       "      <th></th>\n",
       "      <th></th>\n",
       "      <th></th>\n",
       "      <th></th>\n",
       "    </tr>\n",
       "  </thead>\n",
       "  <tbody>\n",
       "    <tr>\n",
       "      <th>1-Apr-11 0:00</th>\n",
       "      <td>1</td>\n",
       "      <td>0.0</td>\n",
       "      <td>0.613</td>\n",
       "      <td>0.0</td>\n",
       "    </tr>\n",
       "    <tr>\n",
       "      <th>1-Apr-11 0:00</th>\n",
       "      <td>2</td>\n",
       "      <td>0.0</td>\n",
       "      <td>0.155</td>\n",
       "      <td>0.0</td>\n",
       "    </tr>\n",
       "    <tr>\n",
       "      <th>1-Apr-11 0:00</th>\n",
       "      <td>3</td>\n",
       "      <td>0.0</td>\n",
       "      <td>0.178</td>\n",
       "      <td>0.0</td>\n",
       "    </tr>\n",
       "    <tr>\n",
       "      <th>1-Apr-11 0:00</th>\n",
       "      <td>4</td>\n",
       "      <td>0.0</td>\n",
       "      <td>0.114</td>\n",
       "      <td>0.0</td>\n",
       "    </tr>\n",
       "    <tr>\n",
       "      <th>1-Apr-11 0:00</th>\n",
       "      <td>5</td>\n",
       "      <td>1.825</td>\n",
       "      <td>0.078</td>\n",
       "      <td>0.0</td>\n",
       "    </tr>\n",
       "    <tr>\n",
       "      <th>...</th>\n",
       "      <td>...</td>\n",
       "      <td>...</td>\n",
       "      <td>...</td>\n",
       "      <td>...</td>\n",
       "    </tr>\n",
       "    <tr>\n",
       "      <th>9/12/2012 9:30</th>\n",
       "      <td>296</td>\n",
       "      <td>NaN</td>\n",
       "      <td>0.262</td>\n",
       "      <td>0.338</td>\n",
       "    </tr>\n",
       "    <tr>\n",
       "      <th>9/12/2012 9:30</th>\n",
       "      <td>297</td>\n",
       "      <td>0.0</td>\n",
       "      <td>0.192</td>\n",
       "      <td>0.057</td>\n",
       "    </tr>\n",
       "    <tr>\n",
       "      <th>9/12/2012 9:30</th>\n",
       "      <td>298</td>\n",
       "      <td>NaN</td>\n",
       "      <td>0.165</td>\n",
       "      <td>0.188</td>\n",
       "    </tr>\n",
       "    <tr>\n",
       "      <th>9/12/2012 9:30</th>\n",
       "      <td>299</td>\n",
       "      <td>NaN</td>\n",
       "      <td>0.13</td>\n",
       "      <td>0.269</td>\n",
       "    </tr>\n",
       "    <tr>\n",
       "      <th>9/12/2012 9:30</th>\n",
       "      <td>300</td>\n",
       "      <td>0.0</td>\n",
       "      <td>1.538</td>\n",
       "      <td>0.581</td>\n",
       "    </tr>\n",
       "  </tbody>\n",
       "</table>\n",
       "<p>15778512 rows × 4 columns</p>\n",
       "</div>"
      ],
      "text/plain": [
       "                     Customer Production              \n",
       "Consumption Category                  CL     GC     GG\n",
       "datetime_f                                            \n",
       "1-Apr-11 0:00               1        0.0  0.613    0.0\n",
       "1-Apr-11 0:00               2        0.0  0.155    0.0\n",
       "1-Apr-11 0:00               3        0.0  0.178    0.0\n",
       "1-Apr-11 0:00               4        0.0  0.114    0.0\n",
       "1-Apr-11 0:00               5      1.825  0.078    0.0\n",
       "...                       ...        ...    ...    ...\n",
       "9/12/2012 9:30            296        NaN  0.262  0.338\n",
       "9/12/2012 9:30            297        0.0  0.192  0.057\n",
       "9/12/2012 9:30            298        NaN  0.165  0.188\n",
       "9/12/2012 9:30            299        NaN   0.13  0.269\n",
       "9/12/2012 9:30            300        0.0  1.538  0.581\n",
       "\n",
       "[15778512 rows x 4 columns]"
      ]
     },
     "execution_count": 16,
     "metadata": {},
     "output_type": "execute_result"
    }
   ],
   "source": [
    "sample_full.reset_index().set_index('datetime_f')"
   ]
  },
  {
   "cell_type": "markdown",
   "metadata": {},
   "source": [
    "## Choice of the tartget variable."
   ]
  },
  {
   "cell_type": "markdown",
   "metadata": {},
   "source": [
    "The main interest are variables in the Production column. Let's see how this data is distributed. "
   ]
  },
  {
   "cell_type": "code",
   "execution_count": null,
   "metadata": {},
   "outputs": [],
   "source": [
    "sample_full_copy.set_index(['datetime_f', 'Consumption Category', \"Customer\"]).unstack(['Consumption Category'])[['Production']]\n",
    "full_aggregated = sample_full.reset_index().groupby('datetime_f').agg({'sum', 'count'})\n",
    "full_aggregated.index = pd.to_datetime(full_aggregated.index)"
   ]
  },
  {
   "cell_type": "markdown",
   "metadata": {},
   "source": [
    "Solar production:"
   ]
  },
  {
   "cell_type": "code",
   "execution_count": 20,
   "metadata": {},
   "outputs": [
    {
     "data": {
      "text/plain": [
       "<AxesSubplot:xlabel='datetime_f'>"
      ]
     },
     "execution_count": 20,
     "metadata": {},
     "output_type": "execute_result"
    },
    {
     "data": {
      "image/png": "[encoded data removed]",
      "text/plain": [
       "<Figure size 1800x360 with 1 Axes>"
      ]
     },
     "metadata": {
      "needs_background": "light"
     },
     "output_type": "display_data"
    }
   ],
   "source": [
    "full_aggregated[('Production', 'GG', 'sum')].resample(\"W\").mean().plot(figsize=(25, 5))"
   ]
  },
  {
   "cell_type": "markdown",
   "metadata": {},
   "source": [
    "General consumption:"
   ]
  },
  {
   "cell_type": "code",
   "execution_count": 21,
   "metadata": {},
   "outputs": [
    {
     "data": {
      "text/plain": [
       "<AxesSubplot:xlabel='datetime_f'>"
      ]
     },
     "execution_count": 21,
     "metadata": {},
     "output_type": "execute_result"
    },
    {
     "data": {
      "image/png": "[encoded data removed]",
      "text/plain": [
       "<Figure size 1800x360 with 1 Axes>"
      ]
     },
     "metadata": {
      "needs_background": "light"
     },
     "output_type": "display_data"
    }
   ],
   "source": [
    "full_aggregated[('Production', 'GC', 'sum')].resample(\"W\").mean().plot(figsize=(25, 5))"
   ]
  },
  {
   "cell_type": "markdown",
   "metadata": {},
   "source": [
    "Off-peak consumption:"
   ]
  },
  {
   "cell_type": "code",
   "execution_count": 22,
   "metadata": {},
   "outputs": [
    {
     "data": {
      "text/plain": [
       "<AxesSubplot:xlabel='datetime_f'>"
      ]
     },
     "execution_count": 22,
     "metadata": {},
     "output_type": "execute_result"
    },
    {
     "data": {
      "image/png": "[encoded data removed]",
      "text/plain": [
       "<Figure size 1800x360 with 1 Axes>"
      ]
     },
     "metadata": {
      "needs_background": "light"
     },
     "output_type": "display_data"
    }
   ],
   "source": [
    "full_aggregated[('Production', 'CL', 'sum')].resample(\"W\").mean().plot(figsize=(25, 5))"
   ]
  },
  {
   "cell_type": "markdown",
   "metadata": {},
   "source": [
    "For all three parameters, the data becomes partial after July 2013. Supposedly, measurements from some of the client either were not taken or mistakenly placed there. There is no way to figure it out, this data will be discarded.\n",
    "\n",
    "Which variable we are going to use for the preidction? Following candidates were considered: \n",
    "* Solar production\n",
    "* Difference between current production and energy consumption \n",
    "* Profit between consumpted energy and solar production\n",
    "\n",
    "Potentialy, all these three variables could be useful for a potential user of the solar battery. First one gives information about the solar production. The second and third give information about the profit that user can receive if they send extra produced energy to a grid. "
   ]
  },
  {
   "cell_type": "code",
   "execution_count": 25,
   "metadata": {},
   "outputs": [
    {
     "data": {
      "text/html": [
       "<div>\n",
       "<style scoped>\n",
       "    .dataframe tbody tr th:only-of-type {\n",
       "        vertical-align: middle;\n",
       "    }\n",
       "\n",
       "    .dataframe tbody tr th {\n",
       "        vertical-align: top;\n",
       "    }\n",
       "\n",
       "    .dataframe thead th {\n",
       "        text-align: right;\n",
       "    }\n",
       "</style>\n",
       "<table border=\"1\" class=\"dataframe\">\n",
       "  <thead>\n",
       "    <tr style=\"text-align: right;\">\n",
       "      <th></th>\n",
       "      <th>count</th>\n",
       "      <th>sum</th>\n",
       "    </tr>\n",
       "    <tr>\n",
       "      <th>datetime_f</th>\n",
       "      <th></th>\n",
       "      <th></th>\n",
       "    </tr>\n",
       "  </thead>\n",
       "  <tbody>\n",
       "    <tr>\n",
       "      <th>2011-04-01 00:00:00</th>\n",
       "      <td>300</td>\n",
       "      <td>0.013</td>\n",
       "    </tr>\n",
       "    <tr>\n",
       "      <th>2011-04-01 00:30:00</th>\n",
       "      <td>300</td>\n",
       "      <td>0.018</td>\n",
       "    </tr>\n",
       "    <tr>\n",
       "      <th>2011-04-01 10:00:00</th>\n",
       "      <td>300</td>\n",
       "      <td>92.382</td>\n",
       "    </tr>\n",
       "    <tr>\n",
       "      <th>2011-04-01 10:30:00</th>\n",
       "      <td>300</td>\n",
       "      <td>109.83</td>\n",
       "    </tr>\n",
       "    <tr>\n",
       "      <th>2011-04-01 11:00:00</th>\n",
       "      <td>300</td>\n",
       "      <td>115.701</td>\n",
       "    </tr>\n",
       "    <tr>\n",
       "      <th>...</th>\n",
       "      <td>...</td>\n",
       "      <td>...</td>\n",
       "    </tr>\n",
       "    <tr>\n",
       "      <th>2012-09-12 07:30:00</th>\n",
       "      <td>299</td>\n",
       "      <td>22.564</td>\n",
       "    </tr>\n",
       "    <tr>\n",
       "      <th>2012-09-12 08:00:00</th>\n",
       "      <td>299</td>\n",
       "      <td>41.142</td>\n",
       "    </tr>\n",
       "    <tr>\n",
       "      <th>2012-09-12 08:30:00</th>\n",
       "      <td>299</td>\n",
       "      <td>66.805</td>\n",
       "    </tr>\n",
       "    <tr>\n",
       "      <th>2012-09-12 09:00:00</th>\n",
       "      <td>299</td>\n",
       "      <td>88.783</td>\n",
       "    </tr>\n",
       "    <tr>\n",
       "      <th>2012-09-12 09:30:00</th>\n",
       "      <td>299</td>\n",
       "      <td>106.11</td>\n",
       "    </tr>\n",
       "  </tbody>\n",
       "</table>\n",
       "<p>52608 rows × 2 columns</p>\n",
       "</div>"
      ],
      "text/plain": [
       "                     count      sum\n",
       "datetime_f                         \n",
       "2011-04-01 00:00:00    300    0.013\n",
       "2011-04-01 00:30:00    300    0.018\n",
       "2011-04-01 10:00:00    300   92.382\n",
       "2011-04-01 10:30:00    300   109.83\n",
       "2011-04-01 11:00:00    300  115.701\n",
       "...                    ...      ...\n",
       "2012-09-12 07:30:00    299   22.564\n",
       "2012-09-12 08:00:00    299   41.142\n",
       "2012-09-12 08:30:00    299   66.805\n",
       "2012-09-12 09:00:00    299   88.783\n",
       "2012-09-12 09:30:00    299   106.11\n",
       "\n",
       "[52608 rows x 2 columns]"
      ]
     },
     "execution_count": 25,
     "metadata": {},
     "output_type": "execute_result"
    }
   ],
   "source": [
    "full_aggregated['Production']['GG']"
   ]
  },
  {
   "cell_type": "markdown",
   "metadata": {},
   "source": [
    "All three possible target variables in one plot:"
   ]
  },
  {
   "cell_type": "markdown",
   "metadata": {},
   "source": [
    "![target_variabl](target_variable2.png)"
   ]
  },
  {
   "cell_type": "markdown",
   "metadata": {},
   "source": [
    "Orange and green lines describe variables difference between the production and consumption and the profit respectfully, and the blue one is the pure production. \n",
    "If we had an actual user with a real time solar battery and consumption of the household, we could predict the best (the cheapest, the greenest) time for a user to consume a lot of energy (for example, to charge a car). But these metrics are valuable when the user has an immediate feedback and user can act on it. In abscense of the real user and having only historical data, there is not much sense in such predictions therefore, the production of solar battery was chosen as a target variable. "
   ]
  },
  {
   "cell_type": "markdown",
   "metadata": {},
   "source": [
    "The target variable contains many near 0 values. Because of it, it makes sense to choose use wape (weighted absolute percentage error) as a metrics for quality."
   ]
  },
  {
   "cell_type": "markdown",
   "metadata": {},
   "source": [
    "$WAPE = \\frac{ \\sum_{t=1}^{n} \\|A_t - F_t\\| }{\\sum_{t=1}^{n} \\|A_t|}$"
   ]
  },
  {
   "cell_type": "markdown",
   "metadata": {},
   "source": [
    "Here $A_t$ -- actual measurements, $F_t$ predictions."
   ]
  },
  {
   "cell_type": "markdown",
   "metadata": {},
   "source": [
    "## Building baseline predictions."
   ]
  },
  {
   "cell_type": "markdown",
   "metadata": {},
   "source": [
    "To establish a baseline for prediction, we'll build a model using [Prophet](https://facebook.github.io/prophet/) without having any adjustments. To simplify the explanation of the problem and to be able to calculate, here will be considered only one customer, and a prediction is built for it. \n",
    "\n",
    "To have widest data range, the customer `id=224` was chosen since it has a data for 2010 - 2013 years. "
   ]
  },
  {
   "cell_type": "code",
   "execution_count": 280,
   "metadata": {},
   "outputs": [
    {
     "name": "stderr",
     "output_type": "stream",
     "text": [
      "/Users/olgas/study/solar-forecast/venv/lib/python3.9/site-packages/IPython/core/interactiveshell.py:3444: DtypeWarning: Columns (9) have mixed types.Specify dtype option on import or set low_memory=False.\n",
      "  exec(code_obj, self.user_global_ns, self.user_ns)\n"
     ]
    }
   ],
   "source": [
    "full_hourly = pd.read_csv('full_hourly.csv')"
   ]
  },
  {
   "cell_type": "code",
   "execution_count": 357,
   "metadata": {},
   "outputs": [],
   "source": [
    "hourly_224 = full_hourly[full_hourly['Customer'] == 224]\n",
    "hourly_224 = hourly_224[hourly_224['Consumption Category'] == 'GG']"
   ]
  },
  {
   "cell_type": "markdown",
   "metadata": {},
   "source": [
    "Since the target variable is chosen as solar production, all rows with the household consumption data can be discarded."
   ]
  },
  {
   "cell_type": "code",
   "execution_count": 358,
   "metadata": {},
   "outputs": [],
   "source": [
    "hourly_224['datetime_f1'] = pd.to_datetime(hourly_224['datetime'], format='%d-%b-%y %H:%M', errors='coerce')\n",
    "hourly_224['datetime_f2'] = pd.to_datetime(hourly_224['datetime'], format='%d/%b/%y %H:%M', errors='coerce')\n",
    "hourly_224['datetime_f3'] = pd.to_datetime(hourly_224['datetime'], format='%d/%m/%Y %H:%M', errors='coerce')\n",
    "hourly_224['Timestamp'] = np.where(hourly_224['datetime_f1'].isna(), hourly_224['datetime_f2'], hourly_224['datetime_f1'])\n",
    "hourly_224['Timestamp'] = np.where(hourly_224['Timestamp'].isna(), hourly_224['datetime_f3'], hourly_224['Timestamp'])\n",
    "hourly_224['datetime_f'] = hourly_224['Timestamp']"
   ]
  },
  {
   "cell_type": "code",
   "execution_count": 359,
   "metadata": {},
   "outputs": [],
   "source": [
    "hourly_224['datetime_f'] = hourly_224['Timestamp']\n",
    "hourly_224 = hourly_224.reset_index(drop=True).set_index('datetime_f')"
   ]
  },
  {
   "cell_type": "code",
   "execution_count": 360,
   "metadata": {},
   "outputs": [],
   "source": [
    "hourly_224 = hourly_224.drop(['datetime_f1', 'datetime_f2', 'datetime_f3'], axis=1)"
   ]
  },
  {
   "cell_type": "markdown",
   "metadata": {},
   "source": [
    "As a train set here and in further calculations will be used data from the beginning of the period (2010-07-01) and till the 2013-01-01. The last 6 month (till the 2013-07-01) will be used as a test set. "
   ]
  },
  {
   "cell_type": "code",
   "execution_count": 381,
   "metadata": {},
   "outputs": [],
   "source": [
    "hourly_224['ds'] = hourly_224['Timestamp']\n",
    "\n",
    "hourly_224['y'] = hourly_224['Production']\n",
    "\n",
    "hourly_224_train = hourly_224[hourly_224['datetime'] <= '2013-01-01']\n",
    "hourly_224_test = hourly_224[(hourly_224['datetime'] > '2013-01-01')]\n",
    "hourly_224_train = hourly_224_train.drop(['datetime','date', 'Consumption Category', 'Generator Capacity', 'Unnamed: 0'], axis=1)\n",
    "hourly_224_test = hourly_224_test.drop(['datetime','date', 'Consumption Category', 'Generator Capacity', 'Unnamed: 0'], axis=1)"
   ]
  },
  {
   "cell_type": "code",
   "execution_count": 382,
   "metadata": {},
   "outputs": [
    {
     "name": "stdout",
     "output_type": "stream",
     "text": [
      "Initial log joint probability = -1013.26\n",
      "    Iter      log prob        ||dx||      ||grad||       alpha      alpha0  # evals  Notes \n",
      "      99       31521.1    0.00197624       421.067           1           1      117   \n",
      "    Iter      log prob        ||dx||      ||grad||       alpha      alpha0  # evals  Notes \n",
      "     199       31526.7   0.000657175       91.4082           1           1      238   \n",
      "    Iter      log prob        ||dx||      ||grad||       alpha      alpha0  # evals  Notes \n",
      "     273       31528.5   0.000150396       174.214   1.587e-06       0.001      366  LS failed, Hessian reset \n",
      "     299       31528.9    0.00041358       72.8549      0.4276           1      397   \n",
      "    Iter      log prob        ||dx||      ||grad||       alpha      alpha0  # evals  Notes \n",
      "     373       31529.4   1.55384e-06       63.2323      0.2311           1      490   \n",
      "Optimization terminated normally: \n",
      "  Convergence detected: relative gradient magnitude is below tolerance\n"
     ]
    }
   ],
   "source": [
    "model_hourly = Prophet()\n",
    "model_hourly.fit(hourly_224_train)\n",
    "future = model_hourly.make_future_dataframe(periods=7680, freq='30min')"
   ]
  },
  {
   "cell_type": "code",
   "execution_count": 383,
   "metadata": {},
   "outputs": [],
   "source": [
    "forecast_hourly = model_hourly.predict(future)\n",
    "y_test = hourly_224_test['y']\n",
    "y_pred = forecast_hourly['yhat']"
   ]
  },
  {
   "cell_type": "code",
   "execution_count": 384,
   "metadata": {},
   "outputs": [
    {
     "data": {
      "text/plain": [
       "72.67082267487797"
      ]
     },
     "execution_count": 384,
     "metadata": {},
     "output_type": "execute_result"
    }
   ],
   "source": [
    "\n",
    "wape = np.sum(np.abs((y_pred - y_test.reset_index(drop=True))) / np.sum(y_test.reset_index(drop=True))) * 100\n",
    "wape"
   ]
  },
  {
   "cell_type": "markdown",
   "metadata": {},
   "source": [
    "The Prophet model without any additional actions gives around WAPE 72%. This number can be considered as a baseline for the other models. "
   ]
  },
  {
   "cell_type": "markdown",
   "metadata": {},
   "source": [
    "## Gathering data for additional drivers."
   ]
  },
  {
   "cell_type": "markdown",
   "metadata": {},
   "source": [
    "We can assume that solar production depends on the geographical coordinates of the place where battery is placed. Since the calculation for the production is happening for the particular customer, this is not a driver in this case. But the time of the sunrise and the sunset definetely should be a driver.\n",
    "\n",
    "The other important variable that should be considered is the weather. The infomration about the precipitation and the temperature during the day was found but unfortunatelly, it wasn't available.\n",
    "\n",
    "\n",
    "The weather data is taken from [http://www.bom.gov.au](http://www.bom.gov.au/climate/data-services/station-data.shtml)"
   ]
  },
  {
   "cell_type": "markdown",
   "metadata": {},
   "source": [
    "Gathering the data and merging it with the main dataset."
   ]
  },
  {
   "cell_type": "code",
   "execution_count": 27,
   "metadata": {},
   "outputs": [],
   "source": [
    "year = '2010'\n",
    "initial_df = pd.read_csv(f'data/2010.csv', header=0)\n",
    "initial_df['day'] = initial_df[year]\n",
    "initial_df.drop([year], inplace=True, axis=1)\n",
    "s = pd.DataFrame(initial_df.set_index(['day']).unstack(['day']))\n",
    "df = pd.DataFrame(s.to_records(), index=s.index).reset_index(drop=True)[['level_0', 'day', '0']].reset_index(drop=True)\n",
    "df['date'] = df['day'].astype(str) + \"-\" + df['level_0'] + f'-{year}'\n",
    "df = df[['0', 'date']].dropna()\n",
    "df['date'] = pd.to_datetime(df['date'])\n",
    "weather_2010_df = df\n",
    "year = '2011'\n",
    "initial_df = pd.read_csv(f'data/2011.csv', header=0)\n",
    "initial_df['day'] = initial_df[year]\n",
    "initial_df.drop([year], inplace=True, axis=1)\n",
    "s = pd.DataFrame(initial_df.set_index(['day']).unstack(['day']))\n",
    "df = pd.DataFrame(s.to_records(), index=s.index).reset_index(drop=True)[['level_0', 'day', '0']].reset_index(drop=True)\n",
    "df['date'] = df['day'].astype(str) + \"-\" + df['level_0'] + f'-{year}'\n",
    "df = df[['0', 'date']].dropna()\n",
    "df['date'] = pd.to_datetime(df['date'])\n",
    "weather_2011_df = df\n",
    "year = '2012'\n",
    "initial_df = pd.read_csv(f'data/2012.csv', header=0)\n",
    "initial_df['day'] = initial_df[year]\n",
    "initial_df.drop([year], inplace=True, axis=1)\n",
    "s = pd.DataFrame(initial_df.set_index(['day']).unstack(['day']))\n",
    "df = pd.DataFrame(s.to_records(), index=s.index).reset_index(drop=True)[['level_0', 'day', '0']].reset_index(drop=True)\n",
    "df['date'] = df['day'].astype(str) + \"-\" + df['level_0'] + f'-{year}'\n",
    "df = df[['0', 'date']].dropna()\n",
    "df['date'] = pd.to_datetime(df['date'])\n",
    "weather_2012_df = df\n",
    "year = '2013'\n",
    "initial_df = pd.read_csv(f'data/2013.csv', header=0)\n",
    "initial_df['day'] = initial_df[year]\n",
    "initial_df.drop([year], inplace=True, axis=1)\n",
    "s = pd.DataFrame(initial_df.set_index(['day']).unstack(['day']))\n",
    "df = pd.DataFrame(s.to_records(), index=s.index).reset_index(drop=True)[['level_0', 'day', '0']].reset_index(drop=True)\n",
    "df['date'] = df['day'].astype(str) + \"-\" + df['level_0'] + f'-{year}'\n",
    "df = df[['0', 'date']].dropna()\n",
    "df['date'] = pd.to_datetime(df['date'])\n",
    "weather_2013_df = df"
   ]
  },
  {
   "cell_type": "code",
   "execution_count": 28,
   "metadata": {},
   "outputs": [],
   "source": [
    "weather = pd.concat([weather_2010_df, weather_2011_df, weather_2012_df, weather_2013_df])"
   ]
  },
  {
   "cell_type": "code",
   "execution_count": 184,
   "metadata": {},
   "outputs": [],
   "source": [
    "hourly_224['date'] = pd.to_datetime(hourly_224['date'])\n",
    "hourly_224_weather = hourly_224.merge(weather, how='left', on='date')"
   ]
  },
  {
   "cell_type": "code",
   "execution_count": 163,
   "metadata": {},
   "outputs": [],
   "source": [
    "hourly_224_weather.fillna({'0':0}, inplace=True)"
   ]
  },
  {
   "cell_type": "markdown",
   "metadata": {},
   "source": [
    "Checking if the weather alone will affect the quality of the prediction. All other parameters stay the same, test and train datasets are splitted the same way, the only difference is adding a regressor to a model:"
   ]
  },
  {
   "cell_type": "code",
   "execution_count": 96,
   "metadata": {},
   "outputs": [
    {
     "data": {
      "text/html": [
       "<div>\n",
       "<style scoped>\n",
       "    .dataframe tbody tr th:only-of-type {\n",
       "        vertical-align: middle;\n",
       "    }\n",
       "\n",
       "    .dataframe tbody tr th {\n",
       "        vertical-align: top;\n",
       "    }\n",
       "\n",
       "    .dataframe thead th {\n",
       "        text-align: right;\n",
       "    }\n",
       "</style>\n",
       "<table border=\"1\" class=\"dataframe\">\n",
       "  <thead>\n",
       "    <tr style=\"text-align: right;\">\n",
       "      <th></th>\n",
       "      <th>Production</th>\n",
       "      <th>time</th>\n",
       "      <th>Customer</th>\n",
       "      <th>Postcode</th>\n",
       "      <th>Timestamp</th>\n",
       "      <th>ds</th>\n",
       "      <th>y</th>\n",
       "      <th>0</th>\n",
       "    </tr>\n",
       "  </thead>\n",
       "  <tbody>\n",
       "    <tr>\n",
       "      <th>0</th>\n",
       "      <td>0.0</td>\n",
       "      <td>0:30</td>\n",
       "      <td>224</td>\n",
       "      <td>2261</td>\n",
       "      <td>2010-07-01 00:30:00</td>\n",
       "      <td>2010-07-01 00:30:00</td>\n",
       "      <td>0.0</td>\n",
       "      <td>0.0</td>\n",
       "    </tr>\n",
       "    <tr>\n",
       "      <th>1</th>\n",
       "      <td>0.0</td>\n",
       "      <td>1:00</td>\n",
       "      <td>224</td>\n",
       "      <td>2261</td>\n",
       "      <td>2010-07-01 01:00:00</td>\n",
       "      <td>2010-07-01 01:00:00</td>\n",
       "      <td>0.0</td>\n",
       "      <td>0.0</td>\n",
       "    </tr>\n",
       "    <tr>\n",
       "      <th>2</th>\n",
       "      <td>0.0</td>\n",
       "      <td>1:30</td>\n",
       "      <td>224</td>\n",
       "      <td>2261</td>\n",
       "      <td>2010-07-01 01:30:00</td>\n",
       "      <td>2010-07-01 01:30:00</td>\n",
       "      <td>0.0</td>\n",
       "      <td>0.0</td>\n",
       "    </tr>\n",
       "    <tr>\n",
       "      <th>3</th>\n",
       "      <td>0.0</td>\n",
       "      <td>2:00</td>\n",
       "      <td>224</td>\n",
       "      <td>2261</td>\n",
       "      <td>2010-07-01 02:00:00</td>\n",
       "      <td>2010-07-01 02:00:00</td>\n",
       "      <td>0.0</td>\n",
       "      <td>0.0</td>\n",
       "    </tr>\n",
       "    <tr>\n",
       "      <th>4</th>\n",
       "      <td>0.0</td>\n",
       "      <td>2:30</td>\n",
       "      <td>224</td>\n",
       "      <td>2261</td>\n",
       "      <td>2010-07-01 02:30:00</td>\n",
       "      <td>2010-07-01 02:30:00</td>\n",
       "      <td>0.0</td>\n",
       "      <td>0.0</td>\n",
       "    </tr>\n",
       "    <tr>\n",
       "      <th>...</th>\n",
       "      <td>...</td>\n",
       "      <td>...</td>\n",
       "      <td>...</td>\n",
       "      <td>...</td>\n",
       "      <td>...</td>\n",
       "      <td>...</td>\n",
       "      <td>...</td>\n",
       "      <td>...</td>\n",
       "    </tr>\n",
       "    <tr>\n",
       "      <th>52123</th>\n",
       "      <td>0.0</td>\n",
       "      <td>22:00</td>\n",
       "      <td>224</td>\n",
       "      <td>2261</td>\n",
       "      <td>2013-06-20 22:00:00</td>\n",
       "      <td>2013-06-20 22:00:00</td>\n",
       "      <td>0.0</td>\n",
       "      <td>1.0</td>\n",
       "    </tr>\n",
       "    <tr>\n",
       "      <th>52124</th>\n",
       "      <td>0.0</td>\n",
       "      <td>22:30</td>\n",
       "      <td>224</td>\n",
       "      <td>2261</td>\n",
       "      <td>2013-06-20 22:30:00</td>\n",
       "      <td>2013-06-20 22:30:00</td>\n",
       "      <td>0.0</td>\n",
       "      <td>1.0</td>\n",
       "    </tr>\n",
       "    <tr>\n",
       "      <th>52125</th>\n",
       "      <td>0.0</td>\n",
       "      <td>23:00</td>\n",
       "      <td>224</td>\n",
       "      <td>2261</td>\n",
       "      <td>2013-06-20 23:00:00</td>\n",
       "      <td>2013-06-20 23:00:00</td>\n",
       "      <td>0.0</td>\n",
       "      <td>1.0</td>\n",
       "    </tr>\n",
       "    <tr>\n",
       "      <th>52126</th>\n",
       "      <td>0.0</td>\n",
       "      <td>23:30</td>\n",
       "      <td>224</td>\n",
       "      <td>2261</td>\n",
       "      <td>2013-06-20 23:30:00</td>\n",
       "      <td>2013-06-20 23:30:00</td>\n",
       "      <td>0.0</td>\n",
       "      <td>1.0</td>\n",
       "    </tr>\n",
       "    <tr>\n",
       "      <th>52127</th>\n",
       "      <td>0.0</td>\n",
       "      <td>0:00</td>\n",
       "      <td>224</td>\n",
       "      <td>2261</td>\n",
       "      <td>2013-06-20 00:00:00</td>\n",
       "      <td>2013-06-20 00:00:00</td>\n",
       "      <td>0.0</td>\n",
       "      <td>1.0</td>\n",
       "    </tr>\n",
       "  </tbody>\n",
       "</table>\n",
       "<p>22464 rows × 8 columns</p>\n",
       "</div>"
      ],
      "text/plain": [
       "       Production   time  Customer  Postcode           Timestamp  \\\n",
       "0             0.0   0:30       224      2261 2010-07-01 00:30:00   \n",
       "1             0.0   1:00       224      2261 2010-07-01 01:00:00   \n",
       "2             0.0   1:30       224      2261 2010-07-01 01:30:00   \n",
       "3             0.0   2:00       224      2261 2010-07-01 02:00:00   \n",
       "4             0.0   2:30       224      2261 2010-07-01 02:30:00   \n",
       "...           ...    ...       ...       ...                 ...   \n",
       "52123         0.0  22:00       224      2261 2013-06-20 22:00:00   \n",
       "52124         0.0  22:30       224      2261 2013-06-20 22:30:00   \n",
       "52125         0.0  23:00       224      2261 2013-06-20 23:00:00   \n",
       "52126         0.0  23:30       224      2261 2013-06-20 23:30:00   \n",
       "52127         0.0   0:00       224      2261 2013-06-20 00:00:00   \n",
       "\n",
       "                       ds    y    0  \n",
       "0     2010-07-01 00:30:00  0.0  0.0  \n",
       "1     2010-07-01 01:00:00  0.0  0.0  \n",
       "2     2010-07-01 01:30:00  0.0  0.0  \n",
       "3     2010-07-01 02:00:00  0.0  0.0  \n",
       "4     2010-07-01 02:30:00  0.0  0.0  \n",
       "...                   ...  ...  ...  \n",
       "52123 2013-06-20 22:00:00  0.0  1.0  \n",
       "52124 2013-06-20 22:30:00  0.0  1.0  \n",
       "52125 2013-06-20 23:00:00  0.0  1.0  \n",
       "52126 2013-06-20 23:30:00  0.0  1.0  \n",
       "52127 2013-06-20 00:00:00  0.0  1.0  \n",
       "\n",
       "[22464 rows x 8 columns]"
      ]
     },
     "execution_count": 96,
     "metadata": {},
     "output_type": "execute_result"
    }
   ],
   "source": [
    "hourly_224_weather['ds'] = hourly_224_weather['Timestamp']\n",
    "\n",
    "hourly_224_weather['y'] = hourly_224_weather['Production']\n",
    "\n",
    "hourly_224_train = hourly_224_weather[hourly_224_weather['datetime'] <= '2013-01-01']\n",
    "hourly_224_test = hourly_224_weather[(hourly_224_weather['datetime'] > '2013-01-01') & (hourly_224_weather['datetime'] > '2013-07-01')]\n",
    "hourly_224_train.drop(['datetime','date', 'Consumption Category', 'datetime_f1', 'datetime_f2', 'datetime_f3', 'Generator Capacity', 'Unnamed: 0'], axis=1)"
   ]
  },
  {
   "cell_type": "code",
   "execution_count": 97,
   "metadata": {},
   "outputs": [
    {
     "name": "stdout",
     "output_type": "stream",
     "text": [
      "Initial log joint probability = -1013.26\n",
      "    Iter      log prob        ||dx||      ||grad||       alpha      alpha0  # evals  Notes \n",
      "      99       31641.9    0.00201109       117.305           1           1      121   \n",
      "    Iter      log prob        ||dx||      ||grad||       alpha      alpha0  # evals  Notes \n",
      "     199       31650.1    0.00605686       152.978           1           1      238   \n",
      "    Iter      log prob        ||dx||      ||grad||       alpha      alpha0  # evals  Notes \n",
      "     299       31654.3   0.000843509        96.757      0.7748      0.7748      352   \n",
      "    Iter      log prob        ||dx||      ||grad||       alpha      alpha0  # evals  Notes \n",
      "     330       31655.7   8.56425e-05       144.225   4.472e-07       0.001      434  LS failed, Hessian reset \n",
      "     399       31656.8   7.68369e-05       75.4566      0.4227           1      509   \n",
      "    Iter      log prob        ||dx||      ||grad||       alpha      alpha0  # evals  Notes \n",
      "     499       31657.9     0.0190982       181.059           1           1      616   \n",
      "    Iter      log prob        ||dx||      ||grad||       alpha      alpha0  # evals  Notes \n",
      "     504       31658.3   0.000468172        266.19   1.832e-06       0.001      680  LS failed, Hessian reset \n",
      "     599       31659.6   3.04298e-05       79.5069      0.2391           1      792   \n",
      "    Iter      log prob        ||dx||      ||grad||       alpha      alpha0  # evals  Notes \n",
      "     627       31659.6   3.59702e-07       67.4103      0.1097      0.1097      828   \n",
      "Optimization terminated normally: \n",
      "  Convergence detected: relative gradient magnitude is below tolerance\n"
     ]
    }
   ],
   "source": [
    "model_hourly = Prophet()\n",
    "model_hourly.add_regressor('0')\n",
    "\n",
    "model_hourly.fit(hourly_224_train)\n",
    "\n",
    "future = model_hourly.make_future_dataframe(periods=7680, freq='30min')\n",
    "future['0'] = hourly_224_test['0'].reset_index(drop=True)"
   ]
  },
  {
   "cell_type": "code",
   "execution_count": 99,
   "metadata": {},
   "outputs": [],
   "source": [
    "forecast_hourly = model_hourly.predict(future)\n",
    "y_test = hourly_224_test['y']\n",
    "y_pred = forecast_hourly['yhat']"
   ]
  },
  {
   "cell_type": "code",
   "execution_count": 100,
   "metadata": {},
   "outputs": [
    {
     "data": {
      "text/plain": [
       "72.63258365577624"
      ]
     },
     "execution_count": 100,
     "metadata": {},
     "output_type": "execute_result"
    }
   ],
   "source": [
    "\n",
    "wape = np.sum(np.abs((y_pred - y_test.reset_index(drop=True))) / np.sum(y_test.reset_index(drop=True))) * 100\n",
    "wape"
   ]
  },
  {
   "cell_type": "markdown",
   "metadata": {},
   "source": [
    "The result is better but not significantly. It might happen because the the additional data describes processes on a day level. It makes sense to build a prediction for a day, and  using a different model will build a prediction profile inside one day. "
   ]
  },
  {
   "cell_type": "markdown",
   "metadata": {},
   "source": [
    "## Building daily predictions with additional drivers."
   ]
  },
  {
   "cell_type": "markdown",
   "metadata": {},
   "source": [
    "Gather informations for drivers and resample original dataset for building a prediction for a day:"
   ]
  },
  {
   "cell_type": "code",
   "execution_count": 105,
   "metadata": {},
   "outputs": [],
   "source": [
    "temp_2010 = pd.read_csv(\"data/Temp_max_2010_Data.csv\")[['Maximum temperature (Degree C)', 'Year', 'Month', 'Day']]\n",
    "\n",
    "temp_2010['temp'] = temp_2010[\"Maximum temperature (Degree C)\"]\n",
    "temp_2010 = temp_2010.drop(\"Maximum temperature (Degree C)\", axis=1)\n",
    "temp_2010['ds'] = pd.to_datetime(temp_2010['Year'].astype(str) + \"-\" +  temp_2010['Month'].astype(str) + \"-\" + temp_2010['Day'].astype(str))\n",
    "temp_2010['temp'].fillna(method='ffill', inplace=True)\n",
    "\n",
    "temp_2011 = pd.read_csv(\"data/Temp_max_2011_Data.csv\")[['Maximum temperature (Degree C)', 'Year', 'Month', 'Day']]\n",
    "\n",
    "temp_2011['temp'] = temp_2011[\"Maximum temperature (Degree C)\"]\n",
    "temp_2011 = temp_2011.drop(\"Maximum temperature (Degree C)\", axis=1)\n",
    "temp_2011['ds'] = pd.to_datetime(temp_2011['Year'].astype(str) + \"-\" +  temp_2011['Month'].astype(str) + \"-\" + temp_2011['Day'].astype(str))\n",
    "temp_2011['temp'].fillna(method='ffill', inplace=True)\n",
    "\n",
    "temp_2012 = pd.read_csv(\"data/Temp_max_2012_Data.csv\")[['Maximum temperature (Degree C)', 'Year', 'Month', 'Day']]\n",
    "\n",
    "temp_2012['temp'] = temp_2012[\"Maximum temperature (Degree C)\"]\n",
    "temp_2012 = temp_2012.drop(\"Maximum temperature (Degree C)\", axis=1)\n",
    "temp_2012['ds'] = pd.to_datetime(temp_2012['Year'].astype(str) + \"-\" +  temp_2012['Month'].astype(str) + \"-\" + temp_2012['Day'].astype(str))\n",
    "temp_2012['temp'].fillna(method='ffill', inplace=True)\n",
    "\n",
    "temp_2013 = pd.read_csv(\"data/Temp_max_2013_Data.csv\")[['Maximum temperature (Degree C)', 'Year', 'Month', 'Day']]\n",
    "\n",
    "temp_2013['temp'] = temp_2013[\"Maximum temperature (Degree C)\"]\n",
    "temp_2013 = temp_2013.drop(\"Maximum temperature (Degree C)\", axis=1)\n",
    "temp_2013['ds'] = pd.to_datetime(temp_2013['Year'].astype(str) + \"-\" +  temp_2013['Month'].astype(str) + \"-\" + temp_2013['Day'].astype(str))\n",
    "temp_2013['temp'].fillna(method='ffill', inplace=True)"
   ]
  },
  {
   "cell_type": "code",
   "execution_count": 106,
   "metadata": {},
   "outputs": [],
   "source": [
    "max_temp_df = pd.concat([temp_2010, temp_2011, temp_2012, temp_2013])\n",
    "max_temp_df['ds'] = max_temp_df['ds'].astype(str)\n",
    "max_temp_df['ds'] = pd.to_datetime(max_temp_df['ds'])"
   ]
  },
  {
   "cell_type": "code",
   "execution_count": 114,
   "metadata": {},
   "outputs": [],
   "source": [
    "daily_224 = hourly_224[['Production']].resample('D').sum()"
   ]
  },
  {
   "cell_type": "code",
   "execution_count": 117,
   "metadata": {},
   "outputs": [],
   "source": [
    "daily_224['date'] = daily_224.index\n",
    "daily_224['ds'] = pd.to_datetime(daily_224['date'])"
   ]
  },
  {
   "cell_type": "code",
   "execution_count": 125,
   "metadata": {},
   "outputs": [],
   "source": [
    "daily_224 = daily_224.merge(weather, how='left', on='date')\n",
    "daily_224['rain'] = daily_224['0']\n",
    "daily_224 = daily_224.merge(max_temp_df[['ds', 'temp']], how='left', on='ds')\n",
    "daily_224['y'] = daily_224['Production']"
   ]
  },
  {
   "cell_type": "markdown",
   "metadata": {},
   "source": [
    "For the daily predictions for train dataset also used the data before `2013-01-01` and for the test data from `2013-01-01` to `2013-07-01` will be used:"
   ]
  },
  {
   "cell_type": "code",
   "execution_count": 129,
   "metadata": {},
   "outputs": [],
   "source": [
    "daily_224_train = daily_224[(daily_224['ds'] <= '2013-01-01') & (daily_224['ds'] > '2010-09-01')]\n",
    "daily_224_test = daily_224[daily_224['ds'] > '2013-01-01']"
   ]
  },
  {
   "cell_type": "markdown",
   "metadata": {},
   "source": [
    "Adding regressors to a model:"
   ]
  },
  {
   "cell_type": "code",
   "execution_count": 130,
   "metadata": {},
   "outputs": [
    {
     "name": "stderr",
     "output_type": "stream",
     "text": [
      "INFO:prophet:Disabling daily seasonality. Run prophet with daily_seasonality=True to override this.\n"
     ]
    },
    {
     "name": "stdout",
     "output_type": "stream",
     "text": [
      "Initial log joint probability = -64.6511\n",
      "    Iter      log prob        ||dx||      ||grad||       alpha      alpha0  # evals  Notes \n",
      "      99       976.918      0.002641       96.6351      0.2113     0.02113      116   \n",
      "    Iter      log prob        ||dx||      ||grad||       alpha      alpha0  # evals  Notes \n",
      "     168        977.59   2.24566e-06       94.7307   1.971e-08       0.001      237  LS failed, Hessian reset \n",
      "     182        977.59   3.84898e-08       90.5022      0.2057           1      258   \n",
      "Optimization terminated normally: \n",
      "  Convergence detected: relative gradient magnitude is below tolerance\n"
     ]
    }
   ],
   "source": [
    "model_with_temp = Prophet()\n",
    "model_with_temp.add_regressor('rain')\n",
    "model_with_temp.add_regressor('temp')\n",
    "\n",
    "model_with_temp.fit(daily_224_train)\n",
    "future = model_with_temp.make_future_dataframe(periods=180, freq='D')\n",
    "future['rain'] = daily_224['rain']\n",
    "future['temp'] = daily_224['temp']"
   ]
  },
  {
   "cell_type": "code",
   "execution_count": 131,
   "metadata": {},
   "outputs": [
    {
     "data": {
      "text/plain": [
       "24.906078024933052"
      ]
     },
     "execution_count": 131,
     "metadata": {},
     "output_type": "execute_result"
    }
   ],
   "source": [
    "forecast_daily = model_with_temp.predict(future)\n",
    "forecast_daily_test = forecast_daily[forecast_daily['ds'] > '2013-01-01']\n",
    "np.sum(np.abs((daily_224_test['y'] - forecast_daily_test['yhat'])))/np.sum(daily_224_test['y']) * 100"
   ]
  },
  {
   "cell_type": "markdown",
   "metadata": {},
   "source": [
    "So we have 24% wape for a day. This is much better result but this is a result for a bigger scale. \n"
   ]
  },
  {
   "cell_type": "markdown",
   "metadata": {},
   "source": [
    "## Building predictions for the daily profile."
   ]
  },
  {
   "cell_type": "markdown",
   "metadata": {},
   "source": [
    "To find an error for a half an hour, another model should be used.\n",
    "\n",
    "For the distribution of the production during the day, daylight hours will be important. Let's add time of the sunset and sunrise. "
   ]
  },
  {
   "cell_type": "markdown",
   "metadata": {},
   "source": [
    "To calculate the sunset and sunrise, we'll need to know geographical coordinates. To find them we should use a postcode. "
   ]
  },
  {
   "cell_type": "code",
   "execution_count": 389,
   "metadata": {},
   "outputs": [],
   "source": [
    "from astral import LocationInfo\n",
    "from astral.sun import sun\n",
    "\n",
    "def get_sunset_time(lat, long, day, month, year):\n",
    "    location = LocationInfo(latitude=lat,longitude=long)\n",
    "    s = sun(location.observer, date=datetime.date(year, month, day))\n",
    "    return s['sunset']\n",
    "\n",
    "def get_sunrise_time(lat, long, day, month, year):\n",
    "    location = LocationInfo(latitude=lat,longitude=long)\n",
    "    s = sun(location.observer, date=datetime.date(year, month, day))\n",
    "    return s['sunrise']"
   ]
  },
  {
   "cell_type": "code",
   "execution_count": 135,
   "metadata": {},
   "outputs": [],
   "source": [
    "import pgeocode\n",
    "nomi = pgeocode.Nominatim('au')\n",
    "\n",
    "    \n",
    "def get_longitude_postcode(postcode):\n",
    "    return nomi.query_postal_code(postcode).longitude\n",
    "\n",
    "\n",
    "def get_latitude_postcode(postcode):\n",
    "    return nomi.query_postal_code(postcode).latitude"
   ]
  },
  {
   "cell_type": "markdown",
   "metadata": {},
   "source": [
    "To calculate the share of the production for this particluar period of time, the production for the whole day has to be divided on the production for the particular part of the production:"
   ]
  },
  {
   "cell_type": "code",
   "execution_count": 292,
   "metadata": {},
   "outputs": [],
   "source": [
    "hourly_224['date'] = hourly_224.index.date\n",
    "day_sum_prod = hourly_224['Production'].resample(\"D\").sum()\n",
    "day_sum_prod = pd.DataFrame(day_sum_prod)\n",
    "day_sum_prod['date'] = pd.to_datetime(day_sum_prod.index.date)\n",
    "hourly_224['date']  = pd.to_datetime(hourly_224['date'])"
   ]
  },
  {
   "cell_type": "code",
   "execution_count": 301,
   "metadata": {},
   "outputs": [],
   "source": [
    "hourly_224 = hourly_224.merge(day_sum_prod, how='left', on='date')\n",
    "hourly_224_cut = hourly_224[['Production_x', 'time', 'Postcode', 'date', 'Production_y']]\n",
    "hourly_224_cut['part'] = hourly_224_cut['Production_x'] /  hourly_224_cut['Production_y']"
   ]
  },
  {
   "cell_type": "markdown",
   "metadata": {},
   "source": [
    "NaNs in this new variabls happen when the Production for a day is 0. These rows caan be filled with 0."
   ]
  },
  {
   "cell_type": "code",
   "execution_count": 312,
   "metadata": {},
   "outputs": [],
   "source": [
    "hourly_224_cut.fillna(0)\n",
    "hourly_224_cut['time_f'] = pd.to_datetime(hourly_224_cut['time']).dt.time"
   ]
  },
  {
   "cell_type": "markdown",
   "metadata": {},
   "source": [
    "Adding variables related to a sunset and sunrise:"
   ]
  },
  {
   "cell_type": "code",
   "execution_count": 305,
   "metadata": {},
   "outputs": [],
   "source": [
    "hourly_224_cut  = hourly_224_cut.merge(weather, how='left', on='date')\n",
    "hourly_224_cut['latitude'] = hourly_224_cut.apply(lambda x: get_latitude_postcode(x['Postcode']), axis=1)\n",
    "hourly_224_cut['longitude'] = hourly_224_cut.apply(lambda x: get_longitude_postcode(x['Postcode']), axis=1)\n",
    "hourly_224_cut['day'] = hourly_224_cut['date'].map(lambda x: x.day)\n",
    "hourly_224_cut['month'] = hourly_224_cut['date'].map(lambda x: x.month)\n",
    "hourly_224_cut['year'] = hourly_224_cut['date'].map(lambda x: x.year)\n",
    "hourly_224_cut['sunset'] = hourly_224_cut.apply(lambda x: get_sunset_time(x['latitude'], x['longitude'], x['day'], x['month'], x['year']), axis=1)\n",
    "hourly_224_cut['sunrise'] = hourly_224_cut.apply(lambda x: get_sunrise_time(x['latitude'], x['longitude'], x['day'], x['month'], x['year']), axis=1)"
   ]
  },
  {
   "cell_type": "markdown",
   "metadata": {},
   "source": [
    "Adding a variable saying if this particular row is related to a time with sun or without:"
   ]
  },
  {
   "cell_type": "code",
   "execution_count": 314,
   "metadata": {},
   "outputs": [],
   "source": [
    "hourly_224_cut['in_daylight'] = (hourly_224_cut['time_f'] > hourly_224_cut['sunset'].dt.time) & (hourly_224_cut['time_f'] < hourly_224_cut['sunrise'].dt.time)"
   ]
  },
  {
   "cell_type": "code",
   "execution_count": 315,
   "metadata": {},
   "outputs": [],
   "source": [
    "hourly_224_cut['ds'] = pd.to_datetime(hourly_224_cut['date'].astype(str)+\" \" + hourly_224_cut['time_f'].astype(str), format='%Y-%m-%d %H:%M:%S')\n",
    "hourly_224_cut = hourly_224_cut.drop(['part'],  axis=1)\n",
    "hourly_224_cut = hourly_224_cut.reset_index(drop=True).set_index(['ds'])"
   ]
  },
  {
   "cell_type": "code",
   "execution_count": 316,
   "metadata": {},
   "outputs": [],
   "source": [
    "prod_x = hourly_224_cut['Production_x']"
   ]
  },
  {
   "cell_type": "markdown",
   "metadata": {},
   "source": [
    "Prepare the datasets:"
   ]
  },
  {
   "cell_type": "code",
   "execution_count": 466,
   "metadata": {},
   "outputs": [],
   "source": [
    "X = hourly_224_cut.drop(['Production_x', 'Production'], axis=1)\n",
    "y = hourly_224_cut['Production_x'] /hourly_224_cut['Production']"
   ]
  },
  {
   "cell_type": "code",
   "execution_count": 467,
   "metadata": {},
   "outputs": [],
   "source": [
    "X['hour'] = X['time_f'].map(lambda x: x.hour)\n",
    "X['minute'] = X['time_f'].map(lambda x: x.minute)\n",
    "X['sunset_hour'] = X['sunset'].map(lambda x: x.hour)\n",
    "X['sunset_minute'] = X['sunset'].map(lambda x: x.minute)\n",
    "X['sunrise_hour'] = X['sunrise'].map(lambda x: x.hour)\n",
    "X['sunrise_minute'] = X['sunrise'].map(lambda x: x.minute)"
   ]
  },
  {
   "cell_type": "code",
   "execution_count": 468,
   "metadata": {},
   "outputs": [],
   "source": [
    "X = X.drop(['time', 'date', 'time_f', 'sunset', 'sunrise'], axis=1)"
   ]
  },
  {
   "cell_type": "markdown",
   "metadata": {},
   "source": [
    "To catch the effects related to seasonal behaviour variables describing the behaviour of the system previous moments (lagged variables) can be added:"
   ]
  },
  {
   "cell_type": "code",
   "execution_count": 398,
   "metadata": {},
   "outputs": [],
   "source": [
    "from itertools import product\n",
    "def percentile(n):\n",
    "    \"\"\"Calculate n - percentile of data\"\"\"\n",
    "    def percentile_(x):\n",
    "        return np.percentile(x, n)\n",
    "    percentile_.__name__ = 'pctl%s' % n\n",
    "    return percentile_\n",
    "\n",
    "def lagged_features(df\n",
    "                    , target_var = 'demand'\n",
    "                    , org_id_columns = ['product_rk', 'store_location_rk']\n",
    "                    , all_id_columns =['product_rk', 'store_location_rk', 'period_start_dt']\n",
    "                    , lags = [7, 14, 21, 28]\n",
    "                    , windows = [7, 14]\n",
    "                    , aggregation_methods = {'mean', 'median', percentile(10),  percentile(90)}\n",
    "                    , filters = None\n",
    "                    ):\n",
    "    \"\"\"Calculate lagged features\n",
    "        df - data frame\n",
    "        target_var - column name which is used to calculate lagged features\n",
    "        org_id_columns - id columns, lagged featires is calculated within each id element independatnly\n",
    "        all_id_columns - id columns + timestamp column\n",
    "        lags - \n",
    "        windows - list of windows, calculation is performed within time range length of window\n",
    "        aggregation_methods - method of aggregation, e.g. 'mean', 'median', 'std', etc.\n",
    "        filter = dict of dict: {<column_name>:{'postfix':'condition of the filter'}}\n",
    "    \"\"\"\n",
    "    out_df = deepcopy(df)\n",
    "\n",
    "    if filters is None:\n",
    "      filters = {'':{''}}\n",
    "\n",
    "    keys, values = zip(*filters.items())\n",
    "    for bundle in product(*values):\n",
    "      condition = ' & '.join([keys[i]+ filters[keys[i]][bundle[i]] for i in range(len(keys))])\n",
    "      name =  '_'.join([bundle[i] for i in range(len(keys))])\n",
    "      if len(condition) >0:\n",
    "        _idx = df.eval(condition)\n",
    "      else:\n",
    "        _idx = df.index>=0\n",
    "        \n",
    "      if len(df[_idx].index)>0:\n",
    "        for w in windows:\n",
    "          lf_df = df[_idx].set_index(all_id_columns)[target_var].\\\n",
    "                    groupby(level=org_id_columns).apply(lambda x: x.rolling(window=w, min_periods = 1).agg(aggregation_methods))\n",
    "          for l in lags:\n",
    "            new_names = {x: \"lag{0}_wdw{1}_{2}_{3}\".\n",
    "                          format(l, w, x, name) for x in lf_df.columns }\n",
    "\n",
    "            out_df = pd.merge(out_df, lf_df.shift(l).reset_index().rename(columns = new_names),\n",
    "                  how='left', on =all_id_columns )\n",
    "            \n",
    "    return out_df"
   ]
  },
  {
   "cell_type": "code",
   "execution_count": 400,
   "metadata": {},
   "outputs": [],
   "source": [
    "from copy import deepcopy"
   ]
  },
  {
   "cell_type": "code",
   "execution_count": 402,
   "metadata": {},
   "outputs": [],
   "source": [
    "X['Customer'] = 224\n",
    "X['dt'] = X.index\n",
    "X['y'] = y\n"
   ]
  },
  {
   "cell_type": "code",
   "execution_count": 407,
   "metadata": {},
   "outputs": [],
   "source": [
    "flts = {'hour' : \n",
    "{'0':'==0', '1':'==1', '2':'==2', '3':'==3', '4':'==4', '5':'==5', '6':'==6',\n",
    "'7':'==7', '8':'==8', '9':'==9', '10':'==10', '11':'==11', '12':'==12', '13':'==13',\n",
    "'14':'==14', '15':'==15', '16':'==16', '17':'==17', '18':'==18', '19':'==19', '20':'==20',\n",
    "'21':'==21', '22':'==22', '23':'==23'\n",
    ",'anyhour':'>-1'\n",
    "}\n",
    " }\n",
    "\n",
    "\n",
    "X_extended = lagged_features(X\n",
    "                    , target_var = 'y'\n",
    "                    , org_id_columns = ['Customer']\n",
    "                    , all_id_columns =['Customer', 'dt']\n",
    "                    , lags =  [7*48, 21*48, 28*48]\n",
    "                    , windows = [7*48]\n",
    "                    , aggregation_methods = {'mean', 'median', percentile(10), percentile(90)}\n",
    "                    , filters = flts\n",
    "                    )"
   ]
  },
  {
   "cell_type": "code",
   "execution_count": 476,
   "metadata": {},
   "outputs": [],
   "source": [
    "X_train = X_extended[:int(X_extended.shape[0]*0.7)]\n",
    "X_test = X_extended[int(X_extended.shape[0]*0.7):]\n",
    "y_train = y[:int(X_extended.shape[0]*0.7)]\n",
    "y_test = y[int(X_extended.shape[0]*0.7):]"
   ]
  },
  {
   "cell_type": "markdown",
   "metadata": {},
   "source": [
    "The NaNs are filled with obviously invalid values so model can distinguish between NaN and valid numbers."
   ]
  },
  {
   "cell_type": "code",
   "execution_count": 477,
   "metadata": {},
   "outputs": [],
   "source": [
    "X_train = X_train.fillna(-1)\n",
    "X_test = X_test.fillna(-1)"
   ]
  },
  {
   "cell_type": "markdown",
   "metadata": {},
   "source": [
    "Let's use a Random Forest to predict a part of the production for this half of an hour."
   ]
  },
  {
   "cell_type": "code",
   "execution_count": 324,
   "metadata": {},
   "outputs": [],
   "source": [
    "from sklearn.ensemble import RandomForestRegressor\n",
    "from sklearn.metrics import mean_absolute_percentage_error"
   ]
  },
  {
   "cell_type": "code",
   "execution_count": 478,
   "metadata": {},
   "outputs": [
    {
     "data": {
      "text/plain": [
       "18.229584143669967"
      ]
     },
     "execution_count": 478,
     "metadata": {},
     "output_type": "execute_result"
    }
   ],
   "source": [
    "rf = RandomForestRegressor(max_depth=None, max_features='sqrt', n_estimators=250)\n",
    "rf.fit(X_train, y_train)\n",
    "y_pred = rf.predict(X_test)\n",
    "np.sum(np.abs((y_pred - y_test.reset_index(drop=True))) / np.sum(y_test.reset_index(drop=True))) * 100\n"
   ]
  },
  {
   "cell_type": "markdown",
   "metadata": {},
   "source": [
    "Parameters were found using a GridSearchCV, the other models such as XGBRegressor were considered as well, but this one had the best quality. "
   ]
  },
  {
   "cell_type": "markdown",
   "metadata": {},
   "source": [
    "## Compiling models to end to end pipeline."
   ]
  },
  {
   "cell_type": "markdown",
   "metadata": {},
   "source": [
    "Earlier models found a prediction for the daily production and profile of the production during the day. It means that combination of these models can make a prediction for original target variable. "
   ]
  },
  {
   "cell_type": "code",
   "execution_count": 471,
   "metadata": {},
   "outputs": [
    {
     "name": "stderr",
     "output_type": "stream",
     "text": [
      "/var/folders/mg/767ccrw57tq3dwbcv7v2hvrc0000gn/T/ipykernel_92972/2333846024.py:2: SettingWithCopyWarning: \n",
      "A value is trying to be set on a copy of a slice from a DataFrame.\n",
      "Try using .loc[row_indexer,col_indexer] = value instead\n",
      "\n",
      "See the caveats in the documentation: https://pandas.pydata.org/pandas-docs/stable/user_guide/indexing.html#returning-a-view-versus-a-copy\n",
      "  daily_forecast_pred['date'] = pd.to_datetime(daily_forecast_pred['ds'])\n"
     ]
    }
   ],
   "source": [
    "daily_forecast_pred = forecast_daily_test[['yhat', 'ds']]\n",
    "daily_forecast_pred['date'] = pd.to_datetime(daily_forecast_pred['ds'])"
   ]
  },
  {
   "cell_type": "code",
   "execution_count": 481,
   "metadata": {},
   "outputs": [],
   "source": [
    "X_test['date'] = pd.to_datetime(X_test.index.date)\n",
    "X_test['part_pred'] = y_pred \n",
    "X_full = X_test.merge(daily_forecast_pred, how='left', on='date').dropna()"
   ]
  },
  {
   "cell_type": "markdown",
   "metadata": {},
   "source": [
    "Final prediction is a multiplication predicted full amount of solar production on a predicted share. "
   ]
  },
  {
   "cell_type": "code",
   "execution_count": 482,
   "metadata": {},
   "outputs": [],
   "source": [
    "X_full['res'] = X_full['part_pred'] * X_full['yhat']"
   ]
  },
  {
   "cell_type": "code",
   "execution_count": 483,
   "metadata": {},
   "outputs": [
    {
     "data": {
      "text/plain": [
       "43.05167783524207"
      ]
     },
     "execution_count": 483,
     "metadata": {},
     "output_type": "execute_result"
    }
   ],
   "source": [
    "prod_x_test = prod_x[prod_x.index >= '2013-01-02']\n",
    "no_na_test = X_full.reset_index(drop=True)['res']\n",
    "wape = np.sum(np.abs((no_na_test.reset_index(drop=True) - prod_x_test.reset_index(drop=True))))/np.sum(prod_x_test) * 100\n",
    "wape"
   ]
  },
  {
   "cell_type": "markdown",
   "metadata": {},
   "source": [
    "## Conclusion"
   ]
  },
  {
   "cell_type": "markdown",
   "metadata": {},
   "source": [
    "There is a table of comparison:\n",
    "\n",
    "|Model   |WAPE   |\n",
    "|---|---|\n",
    "|Naive prophet   | 72%   |\n",
    "|Prophet with drivers   | 72%  |\n",
    "|Pipeline   | 43%  |"
   ]
  },
  {
   "cell_type": "markdown",
   "metadata": {},
   "source": [
    "There is an significant improvement of the quality of the prediction comparing to a baseline. This result was achieved because the combination of the models was able to predict effects on both, level of the day and level of the half of an hour."
   ]
  },
  {
   "cell_type": "markdown",
   "metadata": {},
   "source": [
    "## Next steps."
   ]
  },
  {
   "cell_type": "markdown",
   "metadata": {},
   "source": [
    "Following steps could be executed in the future:\n",
    "* Build predictions for any client. \n",
    "* Add more detailed data for the weather. \n",
    "* Using more sophisticated models for predictions for the daily production.\n",
    "* Using more sophisticated models for predictions for the profile.\n",
    "* Using deep learning models for prediction for one or both levels. \n",
    "* Build a prediction for the other two potential variables (difference between the production and consumption and the pure profit). "
   ]
  }
 ],
 "metadata": {
  "interpreter": {
   "hash": "896fec601df1f792757994b7936b0d30f776bcfdcdf0bbed4e39271f9cec0e44"
  },
  "kernelspec": {
   "display_name": "Python 3.9.0 64-bit ('venv': venv)",
   "name": "python3"
  },
  "language_info": {
   "codemirror_mode": {
    "name": "ipython",
    "version": 3
   },
   "file_extension": ".py",
   "mimetype": "text/x-python",
   "name": "python",
   "nbconvert_exporter": "python",
   "pygments_lexer": "ipython3",
   "version": "3.9.0"
  },
  "orig_nbformat": 4
 },
 "nbformat": 4,
 "nbformat_minor": 2
}
